{
 "cells": [
  {
   "cell_type": "code",
   "execution_count": 11,
   "metadata": {},
   "outputs": [],
   "source": [
    "# Single-linear regression\n",
    "# imports\n",
    "import pandas as pd\n",
    "from sklearn import linear_model\n",
    "import matplotlib.pyplot as plt\n",
    "from sklearn.model_selection import train_test_split\n",
    "import numpy as np"
   ]
  },
  {
   "cell_type": "code",
   "execution_count": 12,
   "metadata": {},
   "outputs": [
    {
     "data": {
      "text/html": [
       "<div>\n",
       "<style scoped>\n",
       "    .dataframe tbody tr th:only-of-type {\n",
       "        vertical-align: middle;\n",
       "    }\n",
       "\n",
       "    .dataframe tbody tr th {\n",
       "        vertical-align: top;\n",
       "    }\n",
       "\n",
       "    .dataframe thead th {\n",
       "        text-align: right;\n",
       "    }\n",
       "</style>\n",
       "<table border=\"1\" class=\"dataframe\">\n",
       "  <thead>\n",
       "    <tr style=\"text-align: right;\">\n",
       "      <th></th>\n",
       "      <th>Model Year</th>\n",
       "      <th>Make</th>\n",
       "      <th>Model</th>\n",
       "      <th>Vehicle Class</th>\n",
       "      <th>Engine Size(L)</th>\n",
       "      <th>Cylinders</th>\n",
       "      <th>Transmission</th>\n",
       "      <th>Fuel Type</th>\n",
       "      <th>Fuel Consumption (City (L/100 km)</th>\n",
       "      <th>Fuel Consumption(Hwy (L/100 km))</th>\n",
       "      <th>Fuel Consumption(Comb (L/100 km))</th>\n",
       "      <th>Fuel Consumption(Comb (mpg))</th>\n",
       "      <th>CO2 Emissions(g/km)</th>\n",
       "      <th>CO2 Rating</th>\n",
       "      <th>Smog Rating</th>\n",
       "    </tr>\n",
       "  </thead>\n",
       "  <tbody>\n",
       "    <tr>\n",
       "      <th>0</th>\n",
       "      <td>2022</td>\n",
       "      <td>Acura</td>\n",
       "      <td>ILX</td>\n",
       "      <td>Compact</td>\n",
       "      <td>2.4</td>\n",
       "      <td>4</td>\n",
       "      <td>AM8</td>\n",
       "      <td>Z</td>\n",
       "      <td>9.9</td>\n",
       "      <td>7.0</td>\n",
       "      <td>8.6</td>\n",
       "      <td>33</td>\n",
       "      <td>200</td>\n",
       "      <td>6</td>\n",
       "      <td>3</td>\n",
       "    </tr>\n",
       "    <tr>\n",
       "      <th>1</th>\n",
       "      <td>2022</td>\n",
       "      <td>Acura</td>\n",
       "      <td>MDX SH-AWD</td>\n",
       "      <td>SUV: Small</td>\n",
       "      <td>3.5</td>\n",
       "      <td>6</td>\n",
       "      <td>AS10</td>\n",
       "      <td>Z</td>\n",
       "      <td>12.6</td>\n",
       "      <td>9.4</td>\n",
       "      <td>11.2</td>\n",
       "      <td>25</td>\n",
       "      <td>263</td>\n",
       "      <td>4</td>\n",
       "      <td>5</td>\n",
       "    </tr>\n",
       "    <tr>\n",
       "      <th>2</th>\n",
       "      <td>2022</td>\n",
       "      <td>Acura</td>\n",
       "      <td>RDX SH-AWD</td>\n",
       "      <td>SUV: Small</td>\n",
       "      <td>2.0</td>\n",
       "      <td>4</td>\n",
       "      <td>AS10</td>\n",
       "      <td>Z</td>\n",
       "      <td>11.0</td>\n",
       "      <td>8.6</td>\n",
       "      <td>9.9</td>\n",
       "      <td>29</td>\n",
       "      <td>232</td>\n",
       "      <td>5</td>\n",
       "      <td>6</td>\n",
       "    </tr>\n",
       "    <tr>\n",
       "      <th>3</th>\n",
       "      <td>2022</td>\n",
       "      <td>Acura</td>\n",
       "      <td>RDX SH-AWD A-SPEC</td>\n",
       "      <td>SUV: Small</td>\n",
       "      <td>2.0</td>\n",
       "      <td>4</td>\n",
       "      <td>AS10</td>\n",
       "      <td>Z</td>\n",
       "      <td>11.3</td>\n",
       "      <td>9.1</td>\n",
       "      <td>10.3</td>\n",
       "      <td>27</td>\n",
       "      <td>242</td>\n",
       "      <td>5</td>\n",
       "      <td>6</td>\n",
       "    </tr>\n",
       "    <tr>\n",
       "      <th>4</th>\n",
       "      <td>2022</td>\n",
       "      <td>Acura</td>\n",
       "      <td>TLX SH-AWD</td>\n",
       "      <td>Compact</td>\n",
       "      <td>2.0</td>\n",
       "      <td>4</td>\n",
       "      <td>AS10</td>\n",
       "      <td>Z</td>\n",
       "      <td>11.2</td>\n",
       "      <td>8.0</td>\n",
       "      <td>9.8</td>\n",
       "      <td>29</td>\n",
       "      <td>230</td>\n",
       "      <td>5</td>\n",
       "      <td>7</td>\n",
       "    </tr>\n",
       "  </tbody>\n",
       "</table>\n",
       "</div>"
      ],
      "text/plain": [
       "   Model Year   Make              Model Vehicle Class  Engine Size(L)  \\\n",
       "0        2022  Acura                ILX       Compact             2.4   \n",
       "1        2022  Acura         MDX SH-AWD    SUV: Small             3.5   \n",
       "2        2022  Acura         RDX SH-AWD    SUV: Small             2.0   \n",
       "3        2022  Acura  RDX SH-AWD A-SPEC    SUV: Small             2.0   \n",
       "4        2022  Acura         TLX SH-AWD       Compact             2.0   \n",
       "\n",
       "   Cylinders Transmission Fuel Type  Fuel Consumption (City (L/100 km)  \\\n",
       "0          4          AM8         Z                                9.9   \n",
       "1          6         AS10         Z                               12.6   \n",
       "2          4         AS10         Z                               11.0   \n",
       "3          4         AS10         Z                               11.3   \n",
       "4          4         AS10         Z                               11.2   \n",
       "\n",
       "   Fuel Consumption(Hwy (L/100 km))  Fuel Consumption(Comb (L/100 km))  \\\n",
       "0                               7.0                                8.6   \n",
       "1                               9.4                               11.2   \n",
       "2                               8.6                                9.9   \n",
       "3                               9.1                               10.3   \n",
       "4                               8.0                                9.8   \n",
       "\n",
       "   Fuel Consumption(Comb (mpg))  CO2 Emissions(g/km)  CO2 Rating  Smog Rating  \n",
       "0                            33                  200           6            3  \n",
       "1                            25                  263           4            5  \n",
       "2                            29                  232           5            6  \n",
       "3                            27                  242           5            6  \n",
       "4                            29                  230           5            7  "
      ]
     },
     "execution_count": 12,
     "metadata": {},
     "output_type": "execute_result"
    }
   ],
   "source": [
    "# open and read dataset\n",
    "Data = pd.read_csv('CO2.csv')\n",
    "Data.head()"
   ]
  },
  {
   "cell_type": "code",
   "execution_count": 13,
   "metadata": {},
   "outputs": [
    {
     "name": "stdout",
     "output_type": "stream",
     "text": [
      "<class 'pandas.core.frame.DataFrame'>\n",
      "RangeIndex: 946 entries, 0 to 945\n",
      "Data columns (total 15 columns):\n",
      " #   Column                             Non-Null Count  Dtype  \n",
      "---  ------                             --------------  -----  \n",
      " 0   Model Year                         946 non-null    int64  \n",
      " 1   Make                               946 non-null    object \n",
      " 2   Model                              946 non-null    object \n",
      " 3   Vehicle Class                      946 non-null    object \n",
      " 4   Engine Size(L)                     946 non-null    float64\n",
      " 5   Cylinders                          946 non-null    int64  \n",
      " 6   Transmission                       946 non-null    object \n",
      " 7   Fuel Type                          946 non-null    object \n",
      " 8   Fuel Consumption (City (L/100 km)  946 non-null    float64\n",
      " 9   Fuel Consumption(Hwy (L/100 km))   946 non-null    float64\n",
      " 10  Fuel Consumption(Comb (L/100 km))  946 non-null    float64\n",
      " 11  Fuel Consumption(Comb (mpg))       946 non-null    int64  \n",
      " 12  CO2 Emissions(g/km)                946 non-null    int64  \n",
      " 13  CO2 Rating                         946 non-null    int64  \n",
      " 14  Smog Rating                        946 non-null    int64  \n",
      "dtypes: float64(4), int64(6), object(5)\n",
      "memory usage: 111.0+ KB\n"
     ]
    }
   ],
   "source": [
    "# Data desciption\n",
    "Data.info()"
   ]
  },
  {
   "cell_type": "code",
   "execution_count": 14,
   "metadata": {},
   "outputs": [
    {
     "data": {
      "text/html": [
       "<div>\n",
       "<style scoped>\n",
       "    .dataframe tbody tr th:only-of-type {\n",
       "        vertical-align: middle;\n",
       "    }\n",
       "\n",
       "    .dataframe tbody tr th {\n",
       "        vertical-align: top;\n",
       "    }\n",
       "\n",
       "    .dataframe thead th {\n",
       "        text-align: right;\n",
       "    }\n",
       "</style>\n",
       "<table border=\"1\" class=\"dataframe\">\n",
       "  <thead>\n",
       "    <tr style=\"text-align: right;\">\n",
       "      <th></th>\n",
       "      <th>Model Year</th>\n",
       "      <th>Engine Size(L)</th>\n",
       "      <th>Cylinders</th>\n",
       "      <th>Fuel Consumption (City (L/100 km)</th>\n",
       "      <th>Fuel Consumption(Hwy (L/100 km))</th>\n",
       "      <th>Fuel Consumption(Comb (L/100 km))</th>\n",
       "      <th>Fuel Consumption(Comb (mpg))</th>\n",
       "      <th>CO2 Emissions(g/km)</th>\n",
       "      <th>CO2 Rating</th>\n",
       "      <th>Smog Rating</th>\n",
       "    </tr>\n",
       "  </thead>\n",
       "  <tbody>\n",
       "    <tr>\n",
       "      <th>Model Year</th>\n",
       "      <td>NaN</td>\n",
       "      <td>NaN</td>\n",
       "      <td>NaN</td>\n",
       "      <td>NaN</td>\n",
       "      <td>NaN</td>\n",
       "      <td>NaN</td>\n",
       "      <td>NaN</td>\n",
       "      <td>NaN</td>\n",
       "      <td>NaN</td>\n",
       "      <td>NaN</td>\n",
       "    </tr>\n",
       "    <tr>\n",
       "      <th>Engine Size(L)</th>\n",
       "      <td>NaN</td>\n",
       "      <td>1.000000</td>\n",
       "      <td>0.920698</td>\n",
       "      <td>0.834925</td>\n",
       "      <td>0.749374</td>\n",
       "      <td>0.818694</td>\n",
       "      <td>-0.704163</td>\n",
       "      <td>0.824188</td>\n",
       "      <td>-0.766333</td>\n",
       "      <td>-0.448239</td>\n",
       "    </tr>\n",
       "    <tr>\n",
       "      <th>Cylinders</th>\n",
       "      <td>NaN</td>\n",
       "      <td>0.920698</td>\n",
       "      <td>1.000000</td>\n",
       "      <td>0.845688</td>\n",
       "      <td>0.737652</td>\n",
       "      <td>0.821718</td>\n",
       "      <td>-0.693594</td>\n",
       "      <td>0.833241</td>\n",
       "      <td>-0.762157</td>\n",
       "      <td>-0.502149</td>\n",
       "    </tr>\n",
       "    <tr>\n",
       "      <th>Fuel Consumption (City (L/100 km)</th>\n",
       "      <td>NaN</td>\n",
       "      <td>0.834925</td>\n",
       "      <td>0.845688</td>\n",
       "      <td>1.000000</td>\n",
       "      <td>0.922850</td>\n",
       "      <td>0.990321</td>\n",
       "      <td>-0.909477</td>\n",
       "      <td>0.965632</td>\n",
       "      <td>-0.920524</td>\n",
       "      <td>-0.523928</td>\n",
       "    </tr>\n",
       "    <tr>\n",
       "      <th>Fuel Consumption(Hwy (L/100 km))</th>\n",
       "      <td>NaN</td>\n",
       "      <td>0.749374</td>\n",
       "      <td>0.737652</td>\n",
       "      <td>0.922850</td>\n",
       "      <td>1.000000</td>\n",
       "      <td>0.967138</td>\n",
       "      <td>-0.877531</td>\n",
       "      <td>0.933991</td>\n",
       "      <td>-0.894668</td>\n",
       "      <td>-0.402099</td>\n",
       "    </tr>\n",
       "    <tr>\n",
       "      <th>Fuel Consumption(Comb (L/100 km))</th>\n",
       "      <td>NaN</td>\n",
       "      <td>0.818694</td>\n",
       "      <td>0.821718</td>\n",
       "      <td>0.990321</td>\n",
       "      <td>0.967138</td>\n",
       "      <td>1.000000</td>\n",
       "      <td>-0.914305</td>\n",
       "      <td>0.971671</td>\n",
       "      <td>-0.927705</td>\n",
       "      <td>-0.490473</td>\n",
       "    </tr>\n",
       "    <tr>\n",
       "      <th>Fuel Consumption(Comb (mpg))</th>\n",
       "      <td>NaN</td>\n",
       "      <td>-0.704163</td>\n",
       "      <td>-0.693594</td>\n",
       "      <td>-0.909477</td>\n",
       "      <td>-0.877531</td>\n",
       "      <td>-0.914305</td>\n",
       "      <td>1.000000</td>\n",
       "      <td>-0.913019</td>\n",
       "      <td>0.949561</td>\n",
       "      <td>0.473990</td>\n",
       "    </tr>\n",
       "    <tr>\n",
       "      <th>CO2 Emissions(g/km)</th>\n",
       "      <td>NaN</td>\n",
       "      <td>0.824188</td>\n",
       "      <td>0.833241</td>\n",
       "      <td>0.965632</td>\n",
       "      <td>0.933991</td>\n",
       "      <td>0.971671</td>\n",
       "      <td>-0.913019</td>\n",
       "      <td>1.000000</td>\n",
       "      <td>-0.954593</td>\n",
       "      <td>-0.520437</td>\n",
       "    </tr>\n",
       "    <tr>\n",
       "      <th>CO2 Rating</th>\n",
       "      <td>NaN</td>\n",
       "      <td>-0.766333</td>\n",
       "      <td>-0.762157</td>\n",
       "      <td>-0.920524</td>\n",
       "      <td>-0.894668</td>\n",
       "      <td>-0.927705</td>\n",
       "      <td>0.949561</td>\n",
       "      <td>-0.954593</td>\n",
       "      <td>1.000000</td>\n",
       "      <td>0.502625</td>\n",
       "    </tr>\n",
       "    <tr>\n",
       "      <th>Smog Rating</th>\n",
       "      <td>NaN</td>\n",
       "      <td>-0.448239</td>\n",
       "      <td>-0.502149</td>\n",
       "      <td>-0.523928</td>\n",
       "      <td>-0.402099</td>\n",
       "      <td>-0.490473</td>\n",
       "      <td>0.473990</td>\n",
       "      <td>-0.520437</td>\n",
       "      <td>0.502625</td>\n",
       "      <td>1.000000</td>\n",
       "    </tr>\n",
       "  </tbody>\n",
       "</table>\n",
       "</div>"
      ],
      "text/plain": [
       "                                   Model Year  Engine Size(L)  Cylinders  \\\n",
       "Model Year                                NaN             NaN        NaN   \n",
       "Engine Size(L)                            NaN        1.000000   0.920698   \n",
       "Cylinders                                 NaN        0.920698   1.000000   \n",
       "Fuel Consumption (City (L/100 km)         NaN        0.834925   0.845688   \n",
       "Fuel Consumption(Hwy (L/100 km))          NaN        0.749374   0.737652   \n",
       "Fuel Consumption(Comb (L/100 km))         NaN        0.818694   0.821718   \n",
       "Fuel Consumption(Comb (mpg))              NaN       -0.704163  -0.693594   \n",
       "CO2 Emissions(g/km)                       NaN        0.824188   0.833241   \n",
       "CO2 Rating                                NaN       -0.766333  -0.762157   \n",
       "Smog Rating                               NaN       -0.448239  -0.502149   \n",
       "\n",
       "                                   Fuel Consumption (City (L/100 km)  \\\n",
       "Model Year                                                       NaN   \n",
       "Engine Size(L)                                              0.834925   \n",
       "Cylinders                                                   0.845688   \n",
       "Fuel Consumption (City (L/100 km)                           1.000000   \n",
       "Fuel Consumption(Hwy (L/100 km))                            0.922850   \n",
       "Fuel Consumption(Comb (L/100 km))                           0.990321   \n",
       "Fuel Consumption(Comb (mpg))                               -0.909477   \n",
       "CO2 Emissions(g/km)                                         0.965632   \n",
       "CO2 Rating                                                 -0.920524   \n",
       "Smog Rating                                                -0.523928   \n",
       "\n",
       "                                   Fuel Consumption(Hwy (L/100 km))  \\\n",
       "Model Year                                                      NaN   \n",
       "Engine Size(L)                                             0.749374   \n",
       "Cylinders                                                  0.737652   \n",
       "Fuel Consumption (City (L/100 km)                          0.922850   \n",
       "Fuel Consumption(Hwy (L/100 km))                           1.000000   \n",
       "Fuel Consumption(Comb (L/100 km))                          0.967138   \n",
       "Fuel Consumption(Comb (mpg))                              -0.877531   \n",
       "CO2 Emissions(g/km)                                        0.933991   \n",
       "CO2 Rating                                                -0.894668   \n",
       "Smog Rating                                               -0.402099   \n",
       "\n",
       "                                   Fuel Consumption(Comb (L/100 km))  \\\n",
       "Model Year                                                       NaN   \n",
       "Engine Size(L)                                              0.818694   \n",
       "Cylinders                                                   0.821718   \n",
       "Fuel Consumption (City (L/100 km)                           0.990321   \n",
       "Fuel Consumption(Hwy (L/100 km))                            0.967138   \n",
       "Fuel Consumption(Comb (L/100 km))                           1.000000   \n",
       "Fuel Consumption(Comb (mpg))                               -0.914305   \n",
       "CO2 Emissions(g/km)                                         0.971671   \n",
       "CO2 Rating                                                 -0.927705   \n",
       "Smog Rating                                                -0.490473   \n",
       "\n",
       "                                   Fuel Consumption(Comb (mpg))  \\\n",
       "Model Year                                                  NaN   \n",
       "Engine Size(L)                                        -0.704163   \n",
       "Cylinders                                             -0.693594   \n",
       "Fuel Consumption (City (L/100 km)                     -0.909477   \n",
       "Fuel Consumption(Hwy (L/100 km))                      -0.877531   \n",
       "Fuel Consumption(Comb (L/100 km))                     -0.914305   \n",
       "Fuel Consumption(Comb (mpg))                           1.000000   \n",
       "CO2 Emissions(g/km)                                   -0.913019   \n",
       "CO2 Rating                                             0.949561   \n",
       "Smog Rating                                            0.473990   \n",
       "\n",
       "                                   CO2 Emissions(g/km)  CO2 Rating  \\\n",
       "Model Year                                         NaN         NaN   \n",
       "Engine Size(L)                                0.824188   -0.766333   \n",
       "Cylinders                                     0.833241   -0.762157   \n",
       "Fuel Consumption (City (L/100 km)             0.965632   -0.920524   \n",
       "Fuel Consumption(Hwy (L/100 km))              0.933991   -0.894668   \n",
       "Fuel Consumption(Comb (L/100 km))             0.971671   -0.927705   \n",
       "Fuel Consumption(Comb (mpg))                 -0.913019    0.949561   \n",
       "CO2 Emissions(g/km)                           1.000000   -0.954593   \n",
       "CO2 Rating                                   -0.954593    1.000000   \n",
       "Smog Rating                                  -0.520437    0.502625   \n",
       "\n",
       "                                   Smog Rating  \n",
       "Model Year                                 NaN  \n",
       "Engine Size(L)                       -0.448239  \n",
       "Cylinders                            -0.502149  \n",
       "Fuel Consumption (City (L/100 km)    -0.523928  \n",
       "Fuel Consumption(Hwy (L/100 km))     -0.402099  \n",
       "Fuel Consumption(Comb (L/100 km))    -0.490473  \n",
       "Fuel Consumption(Comb (mpg))          0.473990  \n",
       "CO2 Emissions(g/km)                  -0.520437  \n",
       "CO2 Rating                            0.502625  \n",
       "Smog Rating                           1.000000  "
      ]
     },
     "execution_count": 14,
     "metadata": {},
     "output_type": "execute_result"
    }
   ],
   "source": [
    "# See the correlation in Dataset\n",
    "Data.corr(numeric_only=True)"
   ]
  },
  {
   "cell_type": "code",
   "execution_count": 15,
   "metadata": {},
   "outputs": [
    {
     "data": {
      "text/plain": [
       "[]"
      ]
     },
     "execution_count": 15,
     "metadata": {},
     "output_type": "execute_result"
    },
    {
     "data": {
      "image/png": "[encoded data removed]",
      "text/plain": [
       "<Figure size 640x480 with 1 Axes>"
      ]
     },
     "metadata": {},
     "output_type": "display_data"
    }
   ],
   "source": [
    "# visualise the correlations between Engine Size and CO2 Emission...\n",
    "\n",
    "plt.scatter(Data['Engine Size(L)'], Data['CO2 Emissions(g/km)'])\n",
    "plt.xlabel('Engine Size')\n",
    "plt.ylabel('CO2-Emission')\n",
    "\n",
    "plt.plot()"
   ]
  },
  {
   "cell_type": "code",
   "execution_count": 16,
   "metadata": {},
   "outputs": [],
   "source": [
    "# Features will need for Model training....\n",
    "Data_y = Data['CO2 Emissions(g/km)']\n",
    "Data_x = Data['Engine Size(L)']"
   ]
  },
  {
   "cell_type": "code",
   "execution_count": 17,
   "metadata": {},
   "outputs": [],
   "source": [
    "# split test and training dataset\n",
    "\n",
    "x_train, x_test, y_train, y_test = train_test_split(Data_x, Data_y, test_size=0.2, shuffle=True)\n",
    "\n",
    "# reshape dataset meant for training\n",
    "x_train = np.asanyarray(x_train)\n",
    "x_test = np.asanyarray(x_test)\n",
    "y_train = np.asanyarray(y_train)\n",
    "y_test = np.asanyarray(y_test)\n",
    "\n",
    "x_train = np.reshape(x_train, (-1,1))\n",
    "y_train = np.reshape(y_train, (-1,1))"
   ]
  },
  {
   "cell_type": "code",
   "execution_count": 18,
   "metadata": {},
   "outputs": [
    {
     "data": {
      "text/html": [
       "<style>#sk-container-id-2 {color: black;}#sk-container-id-2 pre{padding: 0;}#sk-container-id-2 div.sk-toggleable {background-color: white;}#sk-container-id-2 label.sk-toggleable__label {cursor: pointer;display: block;width: 100%;margin-bottom: 0;padding: 0.3em;box-sizing: border-box;text-align: center;}#sk-container-id-2 label.sk-toggleable__label-arrow:before {content: \"▸\";float: left;margin-right: 0.25em;color: #696969;}#sk-container-id-2 label.sk-toggleable__label-arrow:hover:before {color: black;}#sk-container-id-2 div.sk-estimator:hover label.sk-toggleable__label-arrow:before {color: black;}#sk-container-id-2 div.sk-toggleable__content {max-height: 0;max-width: 0;overflow: hidden;text-align: left;background-color: #f0f8ff;}#sk-container-id-2 div.sk-toggleable__content pre {margin: 0.2em;color: black;border-radius: 0.25em;background-color: #f0f8ff;}#sk-container-id-2 input.sk-toggleable__control:checked~div.sk-toggleable__content {max-height: 200px;max-width: 100%;overflow: auto;}#sk-container-id-2 input.sk-toggleable__control:checked~label.sk-toggleable__label-arrow:before {content: \"▾\";}#sk-container-id-2 div.sk-estimator input.sk-toggleable__control:checked~label.sk-toggleable__label {background-color: #d4ebff;}#sk-container-id-2 div.sk-label input.sk-toggleable__control:checked~label.sk-toggleable__label {background-color: #d4ebff;}#sk-container-id-2 input.sk-hidden--visually {border: 0;clip: rect(1px 1px 1px 1px);clip: rect(1px, 1px, 1px, 1px);height: 1px;margin: -1px;overflow: hidden;padding: 0;position: absolute;width: 1px;}#sk-container-id-2 div.sk-estimator {font-family: monospace;background-color: #f0f8ff;border: 1px dotted black;border-radius: 0.25em;box-sizing: border-box;margin-bottom: 0.5em;}#sk-container-id-2 div.sk-estimator:hover {background-color: #d4ebff;}#sk-container-id-2 div.sk-parallel-item::after {content: \"\";width: 100%;border-bottom: 1px solid gray;flex-grow: 1;}#sk-container-id-2 div.sk-label:hover label.sk-toggleable__label {background-color: #d4ebff;}#sk-container-id-2 div.sk-serial::before {content: \"\";position: absolute;border-left: 1px solid gray;box-sizing: border-box;top: 0;bottom: 0;left: 50%;z-index: 0;}#sk-container-id-2 div.sk-serial {display: flex;flex-direction: column;align-items: center;background-color: white;padding-right: 0.2em;padding-left: 0.2em;position: relative;}#sk-container-id-2 div.sk-item {position: relative;z-index: 1;}#sk-container-id-2 div.sk-parallel {display: flex;align-items: stretch;justify-content: center;background-color: white;position: relative;}#sk-container-id-2 div.sk-item::before, #sk-container-id-2 div.sk-parallel-item::before {content: \"\";position: absolute;border-left: 1px solid gray;box-sizing: border-box;top: 0;bottom: 0;left: 50%;z-index: -1;}#sk-container-id-2 div.sk-parallel-item {display: flex;flex-direction: column;z-index: 1;position: relative;background-color: white;}#sk-container-id-2 div.sk-parallel-item:first-child::after {align-self: flex-end;width: 50%;}#sk-container-id-2 div.sk-parallel-item:last-child::after {align-self: flex-start;width: 50%;}#sk-container-id-2 div.sk-parallel-item:only-child::after {width: 0;}#sk-container-id-2 div.sk-dashed-wrapped {border: 1px dashed gray;margin: 0 0.4em 0.5em 0.4em;box-sizing: border-box;padding-bottom: 0.4em;background-color: white;}#sk-container-id-2 div.sk-label label {font-family: monospace;font-weight: bold;display: inline-block;line-height: 1.2em;}#sk-container-id-2 div.sk-label-container {text-align: center;}#sk-container-id-2 div.sk-container {/* jupyter's `normalize.less` sets `[hidden] { display: none; }` but bootstrap.min.css set `[hidden] { display: none !important; }` so we also need the `!important` here to be able to override the default hidden behavior on the sphinx rendered scikit-learn.org. See: https://github.com/scikit-learn/scikit-learn/issues/21755 */display: inline-block !important;position: relative;}#sk-container-id-2 div.sk-text-repr-fallback {display: none;}</style><div id=\"sk-container-id-2\" class=\"sk-top-container\"><div class=\"sk-text-repr-fallback\"><pre>LinearRegression()</pre><b>In a Jupyter environment, please rerun this cell to show the HTML representation or trust the notebook. <br />On GitHub, the HTML representation is unable to render, please try loading this page with nbviewer.org.</b></div><div class=\"sk-container\" hidden><div class=\"sk-item\"><div class=\"sk-estimator sk-toggleable\"><input class=\"sk-toggleable__control sk-hidden--visually\" id=\"sk-estimator-id-2\" type=\"checkbox\" checked><label for=\"sk-estimator-id-2\" class=\"sk-toggleable__label sk-toggleable__label-arrow\">LinearRegression</label><div class=\"sk-toggleable__content\"><pre>LinearRegression()</pre></div></div></div></div></div>"
      ],
      "text/plain": [
       "LinearRegression()"
      ]
     },
     "execution_count": 18,
     "metadata": {},
     "output_type": "execute_result"
    }
   ],
   "source": [
    "# Train single linear model\n",
    "single = linear_model.LinearRegression()\n",
    "\n",
    "single.fit(x_train, y_train)"
   ]
  },
  {
   "cell_type": "code",
   "execution_count": 19,
   "metadata": {},
   "outputs": [],
   "source": [
    "# get the coefficients and interept used for optimizing the hypothesis line\n",
    "coef = single.coef_\n",
    "intcept = single.intercept_"
   ]
  },
  {
   "cell_type": "code",
   "execution_count": 20,
   "metadata": {},
   "outputs": [],
   "source": [
    "# evaluating to see how well it did\n",
    "\n",
    "# reshape test dataset\n",
    "x_test = np.reshape(x_test, (-1,1))\n",
    "y_test = np.reshape(y_test, (-1,1))\n",
    "\n",
    "predictions = single.predict(x_test)"
   ]
  },
  {
   "cell_type": "code",
   "execution_count": 21,
   "metadata": {},
   "outputs": [
    {
     "name": "stdout",
     "output_type": "stream",
     "text": [
      "28.287392143192637\n"
     ]
    }
   ],
   "source": [
    "# determine the loss function i.e. MSE\n",
    "\n",
    "MSE = np.mean(np.absolute(y_test - predictions))\n",
    "print(MSE)"
   ]
  },
  {
   "cell_type": "code",
   "execution_count": 22,
   "metadata": {},
   "outputs": [
    {
     "data": {
      "text/plain": [
       "[]"
      ]
     },
     "execution_count": 22,
     "metadata": {},
     "output_type": "execute_result"
    },
    {
     "data": {
      "image/png": "[encoded data removed]",
      "text/plain": [
       "<Figure size 640x480 with 1 Axes>"
      ]
     },
     "metadata": {},
     "output_type": "display_data"
    }
   ],
   "source": [
    "# Plot hypothesis line\n",
    "\n",
    "plt.scatter(Data['Engine Size(L)'], Data['CO2 Emissions(g/km)'])\n",
    "plt.plot(x_train, coef[0][0]*x_train + intcept[0], 'r')\n",
    "plt.xlabel('Engine Size')\n",
    "plt.ylabel('CO2-Emission')\n",
    "\n",
    "plt.plot()"
   ]
  },
  {
   "cell_type": "code",
   "execution_count": 23,
   "metadata": {},
   "outputs": [],
   "source": [
    "# Multi-linear regression\n",
    "Data_mx = Data[['Engine Size(L)', 'Cylinders', 'Fuel Consumption(Comb (L/100 km))']]\n",
    "Data_my = Data['CO2 Emissions(g/km)']"
   ]
  },
  {
   "cell_type": "code",
   "execution_count": 24,
   "metadata": {},
   "outputs": [],
   "source": [
    "# split test and training dataset\n",
    "trainx, testx, trainy ,testy = train_test_split(Data_mx, Data_my, test_size=0.2, shuffle=True)\n",
    "\n",
    "# reshape dataset\n",
    "trainx = np.asanyarray(trainx)\n",
    "testx = np.asanyarray(testx)\n",
    "trainy = np.asanyarray(trainy)\n",
    "testy = np.asanyarray(testy)"
   ]
  },
  {
   "cell_type": "code",
   "execution_count": 25,
   "metadata": {},
   "outputs": [
    {
     "data": {
      "text/html": [
       "<style>#sk-container-id-3 {color: black;}#sk-container-id-3 pre{padding: 0;}#sk-container-id-3 div.sk-toggleable {background-color: white;}#sk-container-id-3 label.sk-toggleable__label {cursor: pointer;display: block;width: 100%;margin-bottom: 0;padding: 0.3em;box-sizing: border-box;text-align: center;}#sk-container-id-3 label.sk-toggleable__label-arrow:before {content: \"▸\";float: left;margin-right: 0.25em;color: #696969;}#sk-container-id-3 label.sk-toggleable__label-arrow:hover:before {color: black;}#sk-container-id-3 div.sk-estimator:hover label.sk-toggleable__label-arrow:before {color: black;}#sk-container-id-3 div.sk-toggleable__content {max-height: 0;max-width: 0;overflow: hidden;text-align: left;background-color: #f0f8ff;}#sk-container-id-3 div.sk-toggleable__content pre {margin: 0.2em;color: black;border-radius: 0.25em;background-color: #f0f8ff;}#sk-container-id-3 input.sk-toggleable__control:checked~div.sk-toggleable__content {max-height: 200px;max-width: 100%;overflow: auto;}#sk-container-id-3 input.sk-toggleable__control:checked~label.sk-toggleable__label-arrow:before {content: \"▾\";}#sk-container-id-3 div.sk-estimator input.sk-toggleable__control:checked~label.sk-toggleable__label {background-color: #d4ebff;}#sk-container-id-3 div.sk-label input.sk-toggleable__control:checked~label.sk-toggleable__label {background-color: #d4ebff;}#sk-container-id-3 input.sk-hidden--visually {border: 0;clip: rect(1px 1px 1px 1px);clip: rect(1px, 1px, 1px, 1px);height: 1px;margin: -1px;overflow: hidden;padding: 0;position: absolute;width: 1px;}#sk-container-id-3 div.sk-estimator {font-family: monospace;background-color: #f0f8ff;border: 1px dotted black;border-radius: 0.25em;box-sizing: border-box;margin-bottom: 0.5em;}#sk-container-id-3 div.sk-estimator:hover {background-color: #d4ebff;}#sk-container-id-3 div.sk-parallel-item::after {content: \"\";width: 100%;border-bottom: 1px solid gray;flex-grow: 1;}#sk-container-id-3 div.sk-label:hover label.sk-toggleable__label {background-color: #d4ebff;}#sk-container-id-3 div.sk-serial::before {content: \"\";position: absolute;border-left: 1px solid gray;box-sizing: border-box;top: 0;bottom: 0;left: 50%;z-index: 0;}#sk-container-id-3 div.sk-serial {display: flex;flex-direction: column;align-items: center;background-color: white;padding-right: 0.2em;padding-left: 0.2em;position: relative;}#sk-container-id-3 div.sk-item {position: relative;z-index: 1;}#sk-container-id-3 div.sk-parallel {display: flex;align-items: stretch;justify-content: center;background-color: white;position: relative;}#sk-container-id-3 div.sk-item::before, #sk-container-id-3 div.sk-parallel-item::before {content: \"\";position: absolute;border-left: 1px solid gray;box-sizing: border-box;top: 0;bottom: 0;left: 50%;z-index: -1;}#sk-container-id-3 div.sk-parallel-item {display: flex;flex-direction: column;z-index: 1;position: relative;background-color: white;}#sk-container-id-3 div.sk-parallel-item:first-child::after {align-self: flex-end;width: 50%;}#sk-container-id-3 div.sk-parallel-item:last-child::after {align-self: flex-start;width: 50%;}#sk-container-id-3 div.sk-parallel-item:only-child::after {width: 0;}#sk-container-id-3 div.sk-dashed-wrapped {border: 1px dashed gray;margin: 0 0.4em 0.5em 0.4em;box-sizing: border-box;padding-bottom: 0.4em;background-color: white;}#sk-container-id-3 div.sk-label label {font-family: monospace;font-weight: bold;display: inline-block;line-height: 1.2em;}#sk-container-id-3 div.sk-label-container {text-align: center;}#sk-container-id-3 div.sk-container {/* jupyter's `normalize.less` sets `[hidden] { display: none; }` but bootstrap.min.css set `[hidden] { display: none !important; }` so we also need the `!important` here to be able to override the default hidden behavior on the sphinx rendered scikit-learn.org. See: https://github.com/scikit-learn/scikit-learn/issues/21755 */display: inline-block !important;position: relative;}#sk-container-id-3 div.sk-text-repr-fallback {display: none;}</style><div id=\"sk-container-id-3\" class=\"sk-top-container\"><div class=\"sk-text-repr-fallback\"><pre>LinearRegression()</pre><b>In a Jupyter environment, please rerun this cell to show the HTML representation or trust the notebook. <br />On GitHub, the HTML representation is unable to render, please try loading this page with nbviewer.org.</b></div><div class=\"sk-container\" hidden><div class=\"sk-item\"><div class=\"sk-estimator sk-toggleable\"><input class=\"sk-toggleable__control sk-hidden--visually\" id=\"sk-estimator-id-3\" type=\"checkbox\" checked><label for=\"sk-estimator-id-3\" class=\"sk-toggleable__label sk-toggleable__label-arrow\">LinearRegression</label><div class=\"sk-toggleable__content\"><pre>LinearRegression()</pre></div></div></div></div></div>"
      ],
      "text/plain": [
       "LinearRegression()"
      ]
     },
     "execution_count": 25,
     "metadata": {},
     "output_type": "execute_result"
    }
   ],
   "source": [
    "# train multi regression model\n",
    "multi = linear_model.LinearRegression()\n",
    "multi.fit(trainx, trainy)"
   ]
  },
  {
   "cell_type": "code",
   "execution_count": 26,
   "metadata": {},
   "outputs": [],
   "source": [
    "prediction = multi.predict(testx)"
   ]
  },
  {
   "cell_type": "code",
   "execution_count": 27,
   "metadata": {},
   "outputs": [
    {
     "name": "stdout",
     "output_type": "stream",
     "text": [
      "73.50233423491872\n"
     ]
    }
   ],
   "source": [
    "# determine the loss function i.e. MSE\n",
    "MSE = np.mean(np.absolute(y_test - prediction))\n",
    "print(MSE)"
   ]
  }
 ],
 "metadata": {
  "kernelspec": {
   "display_name": "Python 3",
   "language": "python",
   "name": "python3"
  },
  "language_info": {
   "codemirror_mode": {
    "name": "ipython",
    "version": 3
   },
   "file_extension": ".py",
   "mimetype": "text/x-python",
   "name": "python",
   "nbconvert_exporter": "python",
   "pygments_lexer": "ipython3",
   "version": "3.11.2"
  },
  "orig_nbformat": 4
 },
 "nbformat": 4,
 "nbformat_minor": 2
}
